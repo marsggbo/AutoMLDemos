{
 "cells": [
  {
   "cell_type": "markdown",
   "metadata": {},
   "source": [
    "<a href=\"https://colab.research.google.com/github/marsggbo/AutoMLDemos/blob/master/ch4/nasbench101.ipynb\" target=\"_parent\"><img src=\"https://colab.research.google.com/assets/colab-badge.svg\" alt=\"Open In Colab\"/></a>"
   ]
  },
  {
   "cell_type": "markdown",
   "metadata": {},
   "source": [
    "# NAS-Bench-101 官方实现版本"
   ]
  },
  {
   "cell_type": "markdown",
   "metadata": {},
   "source": [
    "## 1.1 安装 hyperbox"
   ]
  },
  {
   "cell_type": "code",
   "execution_count": null,
   "metadata": {},
   "outputs": [],
   "source": [
    "!pip install git+https://github.com/marsggbo/hyperbox.git"
   ]
  },
  {
   "cell_type": "markdown",
   "metadata": {},
   "source": [
    "## 1.2 下载安装\n",
    "\n",
    "如果使用的是Tensorflow 1.x版本，请使用以下命令安装："
   ]
  },
  {
   "cell_type": "code",
   "execution_count": null,
   "metadata": {},
   "outputs": [],
   "source": [
    "!pip install git+https://github.com/google-research/nasbench.git"
   ]
  },
  {
   "cell_type": "markdown",
   "metadata": {},
   "source": [
    "如果使用Tensorflow 2.x版本，请使用以下命令安装："
   ]
  },
  {
   "cell_type": "code",
   "execution_count": null,
   "metadata": {},
   "outputs": [],
   "source": [
    "!pip install git+https://github.com/gabikadlecova/nasbench.git\n",
    "!pip install protobuf==3.20.0"
   ]
  },
  {
   "cell_type": "markdown",
   "metadata": {},
   "source": [
    "## 2. 下载查询数据库"
   ]
  },
  {
   "cell_type": "markdown",
   "metadata": {},
   "source": [
    "- 下载 *nasbench_only108.tfrecord*: 提供的是对每个模型训练108 epochs后的实验数据。"
   ]
  },
  {
   "cell_type": "code",
   "execution_count": null,
   "metadata": {},
   "outputs": [],
   "source": [
    "!wget https://storage.googleapis.com/nasbench/nasbench_only108.tfrecord"
   ]
  },
  {
   "cell_type": "markdown",
   "metadata": {},
   "source": [
    "- 下载 *nasbench_full.tfrecord*: 提供的是完整的实验数据，包含了不同训练时长（4,12,36,108小时）的实验数据。"
   ]
  },
  {
   "cell_type": "code",
   "execution_count": null,
   "metadata": {},
   "outputs": [],
   "source": [
    "!wget https://storage.googleapis.com/nasbench/nasbench_full.tfrecord"
   ]
  },
  {
   "cell_type": "code",
   "execution_count": null,
   "metadata": {},
   "outputs": [],
   "source": [
    "# 将下载的数据库移动到如下路径，方便模型自动读取信息\n",
    "\n",
    "!mkdir -p ~/.hyperbox/nasbench101\n",
    "!mv nasbench_only108.tfrecord ~/.hyperbox/nasbench101\n",
    "!mv nasbench_full.tfrecord ~/.hyperbox/nasbench101"
   ]
  },
  {
   "cell_type": "markdown",
   "metadata": {},
   "source": [
    "## 3. NAS-Bench-101 官方代码使用示例"
   ]
  },
  {
   "cell_type": "code",
   "execution_count": null,
   "metadata": {},
   "outputs": [],
   "source": [
    "# 1. 读取数据库\n",
    "\n",
    "from nasbench import api\n",
    "nasbench = api.NASBench('nasbench_only108.tfrecord') # 读取数据库可能会耗费较长时间，需耐心等待"
   ]
  },
  {
   "cell_type": "code",
   "execution_count": null,
   "metadata": {},
   "outputs": [],
   "source": [
    "# 2. 预定义相关变量\n",
    "\n",
    "# Useful constants\n",
    "INPUT = 'input'\n",
    "OUTPUT = 'output'\n",
    "CONV3X3 = 'conv3x3-bn-relu'\n",
    "CONV1X1 = 'conv1x1-bn-relu'\n",
    "MAXPOOL3X3 = 'maxpool3x3'\n",
    "NUM_VERTICES = 7\n",
    "MAX_EDGES = 9\n",
    "EDGE_SPOTS = NUM_VERTICES * (NUM_VERTICES - 1) / 2   # Upper triangular matrix\n",
    "OP_SPOTS = NUM_VERTICES - 2   # Input/output vertices are fixed\n",
    "ALLOWED_OPS = [CONV3X3, CONV1X1, MAXPOOL3X3]\n",
    "ALLOWED_EDGES = [0, 1]   # Binary adjacency matrix\n"
   ]
  },
  {
   "cell_type": "code",
   "execution_count": null,
   "metadata": {},
   "outputs": [],
   "source": [
    "# 3. 查询模型性能\n",
    "\n",
    "# 从数据集中查询类似Inception的单元结构。\n",
    "cell = api.ModelSpec(\n",
    "  matrix=[[0, 1, 1, 1, 0, 1, 0],    # 输入层\n",
    "          [0, 0, 0, 0, 0, 0, 1],    # 1x1卷积\n",
    "          [0, 0, 0, 0, 0, 0, 1],    # 3x3卷积\n",
    "          [0, 0, 0, 0, 1, 0, 0],    # 5x5卷积（由两个3x3卷积替代）\n",
    "          [0, 0, 0, 0, 0, 0, 1],    # 5x5卷积（由两个3x3卷积替代）\n",
    "          [0, 0, 0, 0, 0, 0, 1],    # 3x3最大池化\n",
    "          [0, 0, 0, 0, 0, 0, 0]],   # 输出层\n",
    "  \n",
    "  ops=[INPUT, CONV1X1, CONV3X3, CONV3X3, CONV3X3, MAXPOOL3X3, OUTPUT] # 模块顶点的操作，与矩阵的顺序相匹配。\n",
    "  )\n",
    "\n",
    "# 多次查询可能会产生不同的结果。每个单元在每个训练轮次内被评估3次，并且查询将随机抽样其中一个结果。\n",
    "data = nasbench.query(cell)\n",
    "for k, v in data.items():\n",
    "    print('%s: %s' % (k, str(v)))\n",
    "  "
   ]
  },
  {
   "cell_type": "markdown",
   "metadata": {},
   "source": [
    "输出结果会包括如下信息：\n",
    "- 邻接矩阵（描述模块之间的连接关系）\n",
    "- 模块的操作类型\n",
    "- 可训练参数的数量\n",
    "- 训练所用的时间（以秒为单位）\n",
    "- 在训练集/验证集/测试集上的准确度。\n",
    "\n",
    "例如\n",
    "```python\n",
    "module_adjacency: [[0 1 1 1 1 0 0]\n",
    " [0 0 0 0 0 0 1]\n",
    " [0 0 0 0 0 0 1]\n",
    " [0 0 0 0 0 0 1]\n",
    " [0 0 0 0 0 1 0]\n",
    " [0 0 0 0 0 0 1]\n",
    " [0 0 0 0 0 0 0]]\n",
    "module_operations: ['input', 'conv3x3-bn-relu', 'conv1x1-bn-relu', 'maxpool3x3', 'conv3x3-bn-relu', 'conv3x3-bn-relu', 'output']\n",
    "trainable_parameters: 2694282\n",
    "training_time: 1155.85302734375\n",
    "train_accuracy: 1.0\n",
    "validation_accuracy: 0.9376001358032227\n",
    "test_accuracy: 0.9311898946762085\n",
    "```\n",
    "\n"
   ]
  },
  {
   "cell_type": "markdown",
   "metadata": {},
   "source": [
    "# 4. 基于Hyperbox的NAS-Bench-101使用示例"
   ]
  },
  {
   "cell_type": "code",
   "execution_count": null,
   "metadata": {},
   "outputs": [],
   "source": [
    "import os\n",
    "\n",
    "import torch\n",
    "from nasbench import api\n",
    "\n",
    "from hyperbox.networks.nasbench101 import NASBench101Network"
   ]
  },
  {
   "cell_type": "code",
   "execution_count": null,
   "metadata": {},
   "outputs": [],
   "source": [
    "\n",
    "matrix = [\n",
    "    [0, 1, 1, 0, 1, 0, 0],\n",
    "    [0, 0, 0, 0, 0, 0, 1],\n",
    "    [0, 0, 0, 0, 0, 1, 1],\n",
    "    [0, 0, 0, 0, 0, 1, 0],\n",
    "    [0, 0, 0, 0, 0, 0, 1],\n",
    "    [0, 0, 0, 0, 0, 0, 1],\n",
    "    [0, 0, 0, 0, 0, 0, 0]\n",
    "]\n",
    "operations = ['input', 'conv1x1-bn-relu', 'conv3x3-bn-relu', 'conv3x3-bn-relu', 'conv3x3-bn-relu', 'maxpool3x3', 'output']\n",
    "spec = api.ModelSpec(matrix, operations)\n",
    "query_type = 'tfrecord'\n",
    "query_file = None\n",
    "query_file = None\n",
    "query_file = None\n",
    "net = NASBench101Network(spec, query_type=query_type, query_file=query_file)"
   ]
  },
  {
   "cell_type": "markdown",
   "metadata": {},
   "source": [
    "`NASBench101Network`提供了`query_by_key`接口，支持查询以下信息：\n",
    "- 'module_adjacency':\t模型的拓扑结构，表示为邻接矩阵\n",
    "- 'module_operations':\t模型的操作集合，表示为操作序列\n",
    "- 'trainable_parameters':\t模型可训练的参数数量\n",
    "- 'training_time':\t模型训练所需的时间\n",
    "- 'train_accuracy':\t模型在训练集上的准确率\n",
    "- 'validation_accuracy':\t模型在验证集上的准确率\n",
    "- 'test_accuracy':\t模型在测试集上的准确率\n"
   ]
  },
  {
   "cell_type": "code",
   "execution_count": null,
   "metadata": {},
   "outputs": [],
   "source": [
    "for key in ['module_adjacency', 'module_operations', 'trainable_parameters', 'training_time', 'train_accuracy', 'validation_accuracy', 'test_accuracy']:\n",
    "    print(key, net.query_by_key('test_accuracy'))"
   ]
  }
 ],
 "metadata": {
  "kernelspec": {
   "display_name": "hyperbox",
   "language": "python",
   "name": "python3"
  },
  "language_info": {
   "codemirror_mode": {
    "name": "ipython",
    "version": 3
   },
   "file_extension": ".py",
   "mimetype": "text/x-python",
   "name": "python",
   "nbconvert_exporter": "python",
   "pygments_lexer": "ipython3",
   "version": "3.7.13"
  }
 },
 "nbformat": 4,
 "nbformat_minor": 2
}
