{
 "cells": [
  {
   "cell_type": "markdown",
   "metadata": {},
   "source": [
    "<a href=\"https://colab.research.google.com/github/marsggbo/AutoMLDemos/blob/master/ch4/nasbench101.ipynb\" target=\"_parent\"><img src=\"https://colab.research.google.com/assets/colab-badge.svg\" alt=\"Open In Colab\"/></a>"
   ]
  },
  {
   "cell_type": "markdown",
   "metadata": {},
   "source": [
    "# NAS-Bench-101 官方实现版本"
   ]
  },
  {
   "cell_type": "markdown",
   "metadata": {},
   "source": [
    "## 1. 下载安装\n",
    "\n",
    "NAS-Bench-101 官方代码实现只支持 TensorFlow 1.x 版本"
   ]
  },
  {
   "cell_type": "code",
   "execution_count": null,
   "metadata": {},
   "outputs": [],
   "source": [
    "%tensorflow_version 1.x\n",
    "\n",
    "!git clone https://github.com/google-research/nasbench\n",
    "!pip install ./nasbench"
   ]
  },
  {
   "cell_type": "markdown",
   "metadata": {},
   "source": [
    "## 2. 下载查询数据库"
   ]
  },
  {
   "cell_type": "markdown",
   "metadata": {},
   "source": [
    "- 下载 *nasbench_only108.tfrecord*: 提供的是对每个模型训练108 epochs后的实验数据。"
   ]
  },
  {
   "cell_type": "code",
   "execution_count": null,
   "metadata": {},
   "outputs": [],
   "source": [
    "!curl -O https://storage.googleapis.com/nasbench/nasbench_only108.tfrecord"
   ]
  },
  {
   "cell_type": "markdown",
   "metadata": {},
   "source": [
    "- 下载 *nasbench_full.tfrecord*: 提供的是完整的实验数据，包含了不同训练时长（4,12,36,108小时）的实验数据。"
   ]
  },
  {
   "cell_type": "code",
   "execution_count": null,
   "metadata": {},
   "outputs": [],
   "source": [
    "!curl -O https://storage.googleapis.com/nasbench/nasbench_full.tfrecord"
   ]
  },
  {
   "cell_type": "markdown",
   "metadata": {},
   "source": [
    "## 3. 使用NAS-Bench-101数据集"
   ]
  },
  {
   "cell_type": "code",
   "execution_count": null,
   "metadata": {},
   "outputs": [],
   "source": [
    "# 1. 读取数据库\n",
    "\n",
    "from nasbench import api\n",
    "nasbench = api.NASBench('nasbench_only108.tfrecord') # 读取数据库可能会耗费较长时间，需耐心等待"
   ]
  },
  {
   "cell_type": "code",
   "execution_count": null,
   "metadata": {},
   "outputs": [],
   "source": [
    "# 2. 预定义相关变量\n",
    "\n",
    "# Useful constants\n",
    "INPUT = 'input'\n",
    "OUTPUT = 'output'\n",
    "CONV3X3 = 'conv3x3-bn-relu'\n",
    "CONV1X1 = 'conv1x1-bn-relu'\n",
    "MAXPOOL3X3 = 'maxpool3x3'\n",
    "NUM_VERTICES = 7\n",
    "MAX_EDGES = 9\n",
    "EDGE_SPOTS = NUM_VERTICES * (NUM_VERTICES - 1) / 2   # Upper triangular matrix\n",
    "OP_SPOTS = NUM_VERTICES - 2   # Input/output vertices are fixed\n",
    "ALLOWED_OPS = [CONV3X3, CONV1X1, MAXPOOL3X3]\n",
    "ALLOWED_EDGES = [0, 1]   # Binary adjacency matrix\n"
   ]
  },
  {
   "cell_type": "code",
   "execution_count": null,
   "metadata": {},
   "outputs": [],
   "source": [
    "# 3. 查询模型性能\n",
    "\n",
    "# 从数据集中查询类似Inception的单元结构。\n",
    "cell = api.ModelSpec(\n",
    "  matrix=[[0, 1, 1, 1, 0, 1, 0],    # 输入层\n",
    "          [0, 0, 0, 0, 0, 0, 1],    # 1x1卷积\n",
    "          [0, 0, 0, 0, 0, 0, 1],    # 3x3卷积\n",
    "          [0, 0, 0, 0, 1, 0, 0],    # 5x5卷积（由两个3x3卷积替代）\n",
    "          [0, 0, 0, 0, 0, 0, 1],    # 5x5卷积（由两个3x3卷积替代）\n",
    "          [0, 0, 0, 0, 0, 0, 1],    # 3x3最大池化\n",
    "          [0, 0, 0, 0, 0, 0, 0]],   # 输出层\n",
    "  \n",
    "  ops=[INPUT, CONV1X1, CONV3X3, CONV3X3, CONV3X3, MAXPOOL3X3, OUTPUT] # 模块顶点的操作，与矩阵的顺序相匹配。\n",
    "  )\n",
    "\n",
    "# 多次查询可能会产生不同的结果。每个单元在每个训练轮次内被评估3次，并且查询将随机抽样其中一个结果。\n",
    "data = nasbench.query(cell)\n",
    "for k, v in data.items():\n",
    "    print('%s: %s' % (k, str(v)))\n",
    "  "
   ]
  },
  {
   "cell_type": "markdown",
   "metadata": {},
   "source": [
    "输出结果会包括如下信息：\n",
    "- 邻接矩阵（描述模块之间的连接关系）\n",
    "- 模块的操作类型\n",
    "- 可训练参数的数量\n",
    "- 训练所用的时间（以秒为单位）\n",
    "- 在训练集/验证集/测试集上的准确度。\n",
    "\n",
    "例如\n",
    "```python\n",
    "module_adjacency: [[0 1 1 1 1 0 0]\n",
    " [0 0 0 0 0 0 1]\n",
    " [0 0 0 0 0 0 1]\n",
    " [0 0 0 0 0 0 1]\n",
    " [0 0 0 0 0 1 0]\n",
    " [0 0 0 0 0 0 1]\n",
    " [0 0 0 0 0 0 0]]\n",
    "module_operations: ['input', 'conv3x3-bn-relu', 'conv1x1-bn-relu', 'maxpool3x3', 'conv3x3-bn-relu', 'conv3x3-bn-relu', 'output']\n",
    "trainable_parameters: 2694282\n",
    "training_time: 1155.85302734375\n",
    "train_accuracy: 1.0\n",
    "validation_accuracy: 0.9376001358032227\n",
    "test_accuracy: 0.9311898946762085\n",
    "```\n",
    "\n"
   ]
  },
  {
   "cell_type": "markdown",
   "metadata": {},
   "source": []
  },
  {
   "cell_type": "markdown",
   "metadata": {},
   "source": [
    "# Hyperbox实现版本\n",
    "\n",
    "该版本基于官方代码和微软NNI框架实现。"
   ]
  },
  {
   "cell_type": "markdown",
   "metadata": {},
   "source": [
    "## 1. install `nasbench-101`"
   ]
  },
  {
   "cell_type": "code",
   "execution_count": null,
   "metadata": {},
   "outputs": [],
   "source": [
    "!git clone https://github.com/google-research/nasbench"
   ]
  },
  {
   "cell_type": "code",
   "execution_count": null,
   "metadata": {},
   "outputs": [],
   "source": [
    "cd nasbench"
   ]
  },
  {
   "cell_type": "code",
   "execution_count": null,
   "metadata": {},
   "outputs": [],
   "source": [
    "!pip install -e ."
   ]
  },
  {
   "cell_type": "markdown",
   "metadata": {},
   "source": [
    "## 2. 下载数据集"
   ]
  },
  {
   "cell_type": "code",
   "execution_count": null,
   "metadata": {},
   "outputs": [],
   "source": [
    "!curl -O https://storage.googleapis.com/nasbench/nasbench_full.tfrecord\n",
    "!curl -O https://storage.googleapis.com/nasbench/nasbench_only_108.tfrecord"
   ]
  },
  {
   "cell_type": "markdown",
   "metadata": {},
   "source": [
    "## 3. 转换数据集\n",
    "\n",
    "使用`hyperbox/networks/nasbench101/db_gen.py`将下载的tfrecord文件转码成新的索引数据库格式。"
   ]
  },
  {
   "cell_type": "code",
   "execution_count": null,
   "metadata": {},
   "outputs": [],
   "source": [
    "!python /path/to/hyperbox/networks/nasbench101/db_gen.py --inputFile /path/to/nasbench_full.tfrecord"
   ]
  },
  {
   "cell_type": "markdown",
   "metadata": {},
   "source": [
    "## 4. 使用NAS-Bench-101数据集"
   ]
  },
  {
   "cell_type": "code",
   "execution_count": null,
   "metadata": {},
   "outputs": [],
   "source": [
    "\n",
    "import torch\n",
    "from nasbench import api\n",
    "from hyperbox.networks.nasbench101.nasbench101 import Network\n",
    "from hyperbox.networks.nasbench101.model_spec import ModelSpec\n",
    "\n",
    "matrix = [\n",
    "    [0, 1, 1, 0, 1, 0, 0],\n",
    "    [0, 0, 0, 0, 0, 0, 1],\n",
    "    [0, 0, 0, 0, 0, 1, 1],\n",
    "    [0, 0, 0, 0, 0, 1, 0],\n",
    "    [0, 0, 0, 0, 0, 0, 1],\n",
    "    [0, 0, 0, 0, 0, 0, 1],\n",
    "    [0, 0, 0, 0, 0, 0, 0]\n",
    "]\n",
    "operations = ['input', 'conv1x1-bn-relu', 'conv3x3-bn-relu', 'conv3x3-bn-relu', 'conv3x3-bn-relu', 'maxpool3x3', 'output']\n",
    "spec = api.ModelSpec(matrix, operations)\n",
    "# query_api = api.NASBench('/home/xihe/xinhe/hyperbox/hyperbox/networks/nasbench101/db_gen/nasbench_only108.tfrecord')\n",
    "# data = query_api.query(spec)\n",
    "# for k, v in data.items():\n",
    "#     print('%s: %s' % (k, str(v)))\n",
    "\n",
    "x = torch.rand(2,3,64,64)\n",
    "\n",
    "net1 = Network(spec)\n",
    "print(net1(x).shape)\n",
    "# net1.query_by_key()\n",
    "\n",
    "matrix2 = [[0, 1, 0, 0, 1, 1, 0],\n",
    "    [0, 0, 1, 0, 0, 0, 0],\n",
    "    [0, 0, 0, 1, 0, 0, 1],\n",
    "    [0, 0, 0, 0, 0, 1, 0],\n",
    "    [0, 0, 0, 0, 0, 1, 0],\n",
    "    [0, 0, 0, 0, 0, 0, 1],\n",
    "    [0, 0, 0, 0, 0, 0, 0]]\n",
    "operations2 = ['input',\n",
    "    'conv3x3-bn-relu',\n",
    "    'maxpool3x3',\n",
    "    'conv3x3-bn-relu',\n",
    "    'conv3x3-bn-relu',\n",
    "    'conv1x1-bn-relu',\n",
    "    'output']\n",
    "spec = ModelSpec(matrix2, operations2)\n",
    "\n",
    "net2 = Network(spec, query_type='db')    \n",
    "print(net2.query_by_key('test_acc'))\n",
    "print(net2(x).shape)\n",
    "\n",
    "spec = ModelSpec(matrix, operations)\n",
    "net3 = Network(spec, query_file='~/.hyperbox/nasbenchmark/nasbench_only108.tfrecord')\n",
    "print(net3.query_by_key('test_accuracy'))\n",
    "print(net3(x).shape)\n",
    "pass"
   ]
  }
 ],
 "metadata": {
  "kernelspec": {
   "display_name": "hyperbox",
   "language": "python",
   "name": "python3"
  },
  "language_info": {
   "codemirror_mode": {
    "name": "ipython",
    "version": 3
   },
   "file_extension": ".py",
   "mimetype": "text/x-python",
   "name": "python",
   "nbconvert_exporter": "python",
   "pygments_lexer": "ipython3",
   "version": "3.7.13"
  }
 },
 "nbformat": 4,
 "nbformat_minor": 2
}
