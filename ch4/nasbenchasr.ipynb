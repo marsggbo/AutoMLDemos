{
 "cells": [
  {
   "cell_type": "markdown",
   "metadata": {},
   "source": [
    "<a href=\"https://colab.research.google.com/github/marsggbo/AutoMLDemos/blob/master/ch4/nasbenchasr.ipynb\" target=\"_parent\"><img src=\"https://colab.research.google.com/assets/colab-badge.svg\" alt=\"Open In Colab\"/></a>"
   ]
  },
  {
   "cell_type": "markdown",
   "metadata": {},
   "source": [
    "# 1. 下载安装"
   ]
  },
  {
   "cell_type": "code",
   "execution_count": null,
   "metadata": {},
   "outputs": [],
   "source": [
    "!git clone https://github.com/marsggbo/hyperbox.git"
   ]
  },
  {
   "cell_type": "code",
   "execution_count": null,
   "metadata": {},
   "outputs": [],
   "source": [
    "cd hyperbox"
   ]
  },
  {
   "cell_type": "code",
   "execution_count": null,
   "metadata": {},
   "outputs": [],
   "source": [
    "!pip install -e ."
   ]
  },
  {
   "cell_type": "markdown",
   "metadata": {},
   "source": [
    "# 2. 下载查询数据库"
   ]
  },
  {
   "cell_type": "code",
   "execution_count": null,
   "metadata": {},
   "outputs": [],
   "source": [
    "%%bash\n",
    "pip install peewee\n",
    "pip install gdown\n",
    "\n",
    "if [ -z \"${NASBENCHMARK_DIR}\" ]; then\n",
    "    NASBENCHMARK_DIR=~/.hyperbox/nasbenchasr/\n",
    "fi\n",
    "\n",
    "echo \"Downloading NAS-Bench-ASR...\"\n",
    "wget https://github.com/SamsungLabs/nb-asr/releases/download/v1.1.0/nb-asr-bench-gtx-1080ti-fp32.pickle\n",
    "wget https://github.com/SamsungLabs/nb-asr/releases/download/v1.1.0/nb-asr-bench-jetson-nano-fp32.pickle\n",
    "wget https://github.com/SamsungLabs/nb-asr/releases/download/v1.1.0/nb-asr-e10-1234.pickle\n",
    "wget https://github.com/SamsungLabs/nb-asr/releases/download/v1.1.0/nb-asr-e40-1234.pickle\n",
    "wget https://github.com/SamsungLabs/nb-asr/releases/download/v1.1.0/nb-asr-e40-1235.pickle\n",
    "wget https://github.com/SamsungLabs/nb-asr/releases/download/v1.1.0/nb-asr-e5-1234.pickle\n",
    "wget https://github.com/SamsungLabs/nb-asr/releases/download/v1.1.0/nb-asr-info.pickle\n",
    "\n",
    "mkdir -p ${NASBENCHMARK_DIR}\n",
    "mv nb-asr*.pickle ${NASBENCHMARK_DIR}"
   ]
  },
  {
   "cell_type": "markdown",
   "metadata": {},
   "source": [
    "# 3. 使用NAS-Bench-ASR数据集"
   ]
  },
  {
   "cell_type": "markdown",
   "metadata": {},
   "source": [
    "## 3.1 导入依赖包"
   ]
  },
  {
   "cell_type": "code",
   "execution_count": 1,
   "metadata": {},
   "outputs": [
    {
     "name": "stderr",
     "output_type": "stream",
     "text": [
      "/Users/marsggbo/opt/anaconda3/envs/hyperbox/lib/python3.7/site-packages/tqdm/auto.py:21: TqdmWarning: IProgress not found. Please update jupyter and ipywidgets. See https://ipywidgets.readthedocs.io/en/stable/user_install.html\n",
      "  from .autonotebook import tqdm as notebook_tqdm\n"
     ]
    },
    {
     "name": "stdout",
     "output_type": "stream",
     "text": [
      "88237349\n"
     ]
    }
   ],
   "source": [
    "import torch\n",
    "\n",
    "from hyperbox.mutator import RandomMutator\n",
    "from hyperbox.networks.nasbenchasr import NASBenchASR\n",
    "\n",
    "model = NASBenchASR(use_rnn=True)\n",
    "print(sum([p.numel() for p in model.parameters()]))\n",
    "rm = RandomMutator(model)"
   ]
  },
  {
   "cell_type": "markdown",
   "metadata": {},
   "source": [
    "上面代码中我们构建了 NASBenchASR 超网，其总共的参数量为 84867649"
   ]
  },
  {
   "cell_type": "markdown",
   "metadata": {},
   "source": [
    "## 3.2 模型编码\n",
    "\n",
    "`hyperbox`框架基于`https://github.com/SamsungLabs/nb-asr`构建了`NASBenchASR`模型，提供了两种模型编码方式，且两种方式可以互相转换：\n",
    "\n",
    "- 第一种是以 **列表（list）** 的形式，不过这种方式默认所有单元采用相同的结构，例如，\n",
    "    - 下面的结构表示单元结构有3个节点，每个节点对应一个list\n",
    "    - 每个节点的list的第一个元素代表main edge上的操作，其余元素表示skip-connection edges的操作\n",
    "```python\n",
    "list_desc = [\n",
    "    ['linear', 1], # 第一个节点， main edge操作为linear，skip-connection edge的操作是索引值为1的操作，0表示zeroize，1表示identity\n",
    "    ['conv5', 1, 0], # 第二个节点\n",
    "    ['conv7d2', 1, 0, 1], # 第三个节点\n",
    "]\n",
    "```\n",
    "\n",
    "- 第二种是以 **字典（dict）** 的形式，它记录了所有162条可搜索边上的操作，下面只给出了第一个block内前两个cell的结构的编码方式，可以看到key和value是对应边的名称和对应的one-hot操作：\n",
    "```python\n",
    "{\n",
    "    'block0_cell0_node0_main': tensor([False, False,  True, False, False, False]),\n",
    "    'block0_cell0_node0_skip0': tensor([False,  True]),\n",
    "    'block0_cell0_node1_main': tensor([False, False,  True, False, False, False]),\n",
    "    'block0_cell0_node1_skip0': tensor([False,  True]),\n",
    "    'block0_cell0_node1_skip1': tensor([False,  True]),\n",
    "    'block0_cell0_node2_main': tensor([ True, False, False, False, False, False]),\n",
    "    'block0_cell0_node2_skip0': tensor([ True, False]),\n",
    "    'block0_cell0_node2_skip1': tensor([False,  True]),\n",
    "    'block0_cell0_node2_skip2': tensor([ True, False]),\n",
    "    'block0_cell1_node0_main': tensor([False,  True, False, False, False, False]),\n",
    "    'block0_cell1_node0_skip0': tensor([ True, False]),\n",
    "    'block0_cell1_node1_main': tensor([False, False,  True, False, False, False]),\n",
    "    'block0_cell1_node1_skip0': tensor([ True, False]),\n",
    "    'block0_cell1_node1_skip1': tensor([False,  True]),\n",
    "    'block0_cell1_node2_main': tensor([False, False, False, False,  True, False]),\n",
    "    'block0_cell1_node2_skip0': tensor([False,  True]),\n",
    "    'block0_cell1_node2_skip1': tensor([False,  True]),\n",
    "    'block0_cell1_node2_skip2': tensor([False,  True]),\n",
    "    ...\n",
    "}\n",
    "```"
   ]
  },
  {
   "cell_type": "markdown",
   "metadata": {},
   "source": [
    "## 3.3 测试模型前向计算"
   ]
  },
  {
   "cell_type": "code",
   "execution_count": 2,
   "metadata": {},
   "outputs": [
    {
     "name": "stdout",
     "output_type": "stream",
     "text": [
      "torch.Size([2, 4, 49])\n",
      "{'block0_cell0_node0_main': tensor([False, False, False,  True, False, False]), 'block0_cell0_node0_skip0': tensor([ True, False]), 'block0_cell0_node1_main': tensor([False, False, False, False,  True, False]), 'block0_cell0_node1_skip0': tensor([ True, False]), 'block0_cell0_node1_skip1': tensor([False,  True]), 'block0_cell0_node2_main': tensor([False,  True, False, False, False, False]), 'block0_cell0_node2_skip0': tensor([ True, False]), 'block0_cell0_node2_skip1': tensor([ True, False]), 'block0_cell0_node2_skip2': tensor([False,  True]), 'block0_cell1_node0_main': tensor([False, False, False, False,  True, False]), 'block0_cell1_node0_skip0': tensor([False,  True]), 'block0_cell1_node1_main': tensor([False, False, False, False,  True, False]), 'block0_cell1_node1_skip0': tensor([ True, False]), 'block0_cell1_node1_skip1': tensor([False,  True]), 'block0_cell1_node2_main': tensor([False, False, False, False,  True, False]), 'block0_cell1_node2_skip0': tensor([ True, False]), 'block0_cell1_node2_skip1': tensor([ True, False]), 'block0_cell1_node2_skip2': tensor([ True, False]), 'block0_cell2_node0_main': tensor([False, False,  True, False, False, False]), 'block0_cell2_node0_skip0': tensor([ True, False]), 'block0_cell2_node1_main': tensor([False, False,  True, False, False, False]), 'block0_cell2_node1_skip0': tensor([ True, False]), 'block0_cell2_node1_skip1': tensor([False,  True]), 'block0_cell2_node2_main': tensor([ True, False, False, False, False, False]), 'block0_cell2_node2_skip0': tensor([False,  True]), 'block0_cell2_node2_skip1': tensor([ True, False]), 'block0_cell2_node2_skip2': tensor([False,  True]), 'block1_cell0_node0_main': tensor([False, False, False,  True, False, False]), 'block1_cell0_node0_skip0': tensor([False,  True]), 'block1_cell0_node1_main': tensor([False,  True, False, False, False, False]), 'block1_cell0_node1_skip0': tensor([ True, False]), 'block1_cell0_node1_skip1': tensor([ True, False]), 'block1_cell0_node2_main': tensor([ True, False, False, False, False, False]), 'block1_cell0_node2_skip0': tensor([ True, False]), 'block1_cell0_node2_skip1': tensor([ True, False]), 'block1_cell0_node2_skip2': tensor([False,  True]), 'block1_cell1_node0_main': tensor([False, False,  True, False, False, False]), 'block1_cell1_node0_skip0': tensor([ True, False]), 'block1_cell1_node1_main': tensor([ True, False, False, False, False, False]), 'block1_cell1_node1_skip0': tensor([ True, False]), 'block1_cell1_node1_skip1': tensor([False,  True]), 'block1_cell1_node2_main': tensor([False, False, False,  True, False, False]), 'block1_cell1_node2_skip0': tensor([False,  True]), 'block1_cell1_node2_skip1': tensor([False,  True]), 'block1_cell1_node2_skip2': tensor([False,  True]), 'block1_cell2_node0_main': tensor([False, False, False,  True, False, False]), 'block1_cell2_node0_skip0': tensor([ True, False]), 'block1_cell2_node1_main': tensor([ True, False, False, False, False, False]), 'block1_cell2_node1_skip0': tensor([ True, False]), 'block1_cell2_node1_skip1': tensor([False,  True]), 'block1_cell2_node2_main': tensor([False, False,  True, False, False, False]), 'block1_cell2_node2_skip0': tensor([False,  True]), 'block1_cell2_node2_skip1': tensor([ True, False]), 'block1_cell2_node2_skip2': tensor([False,  True]), 'block1_cell3_node0_main': tensor([ True, False, False, False, False, False]), 'block1_cell3_node0_skip0': tensor([ True, False]), 'block1_cell3_node1_main': tensor([False, False, False, False, False,  True]), 'block1_cell3_node1_skip0': tensor([False,  True]), 'block1_cell3_node1_skip1': tensor([False,  True]), 'block1_cell3_node2_main': tensor([False, False, False, False, False,  True]), 'block1_cell3_node2_skip0': tensor([ True, False]), 'block1_cell3_node2_skip1': tensor([False,  True]), 'block1_cell3_node2_skip2': tensor([False,  True]), 'block2_cell0_node0_main': tensor([False,  True, False, False, False, False]), 'block2_cell0_node0_skip0': tensor([ True, False]), 'block2_cell0_node1_main': tensor([False, False, False, False,  True, False]), 'block2_cell0_node1_skip0': tensor([ True, False]), 'block2_cell0_node1_skip1': tensor([ True, False]), 'block2_cell0_node2_main': tensor([False, False, False, False, False,  True]), 'block2_cell0_node2_skip0': tensor([False,  True]), 'block2_cell0_node2_skip1': tensor([False,  True]), 'block2_cell0_node2_skip2': tensor([False,  True]), 'block2_cell1_node0_main': tensor([False, False, False, False,  True, False]), 'block2_cell1_node0_skip0': tensor([False,  True]), 'block2_cell1_node1_main': tensor([False, False, False,  True, False, False]), 'block2_cell1_node1_skip0': tensor([False,  True]), 'block2_cell1_node1_skip1': tensor([ True, False]), 'block2_cell1_node2_main': tensor([False, False, False,  True, False, False]), 'block2_cell1_node2_skip0': tensor([False,  True]), 'block2_cell1_node2_skip1': tensor([ True, False]), 'block2_cell1_node2_skip2': tensor([ True, False]), 'block2_cell2_node0_main': tensor([False, False,  True, False, False, False]), 'block2_cell2_node0_skip0': tensor([ True, False]), 'block2_cell2_node1_main': tensor([ True, False, False, False, False, False]), 'block2_cell2_node1_skip0': tensor([ True, False]), 'block2_cell2_node1_skip1': tensor([False,  True]), 'block2_cell2_node2_main': tensor([False, False, False, False,  True, False]), 'block2_cell2_node2_skip0': tensor([False,  True]), 'block2_cell2_node2_skip1': tensor([False,  True]), 'block2_cell2_node2_skip2': tensor([ True, False]), 'block2_cell3_node0_main': tensor([False,  True, False, False, False, False]), 'block2_cell3_node0_skip0': tensor([False,  True]), 'block2_cell3_node1_main': tensor([False,  True, False, False, False, False]), 'block2_cell3_node1_skip0': tensor([ True, False]), 'block2_cell3_node1_skip1': tensor([False,  True]), 'block2_cell3_node2_main': tensor([False, False, False, False,  True, False]), 'block2_cell3_node2_skip0': tensor([False,  True]), 'block2_cell3_node2_skip1': tensor([False,  True]), 'block2_cell3_node2_skip2': tensor([ True, False]), 'block2_cell4_node0_main': tensor([False, False, False, False,  True, False]), 'block2_cell4_node0_skip0': tensor([False,  True]), 'block2_cell4_node1_main': tensor([False, False,  True, False, False, False]), 'block2_cell4_node1_skip0': tensor([ True, False]), 'block2_cell4_node1_skip1': tensor([ True, False]), 'block2_cell4_node2_main': tensor([ True, False, False, False, False, False]), 'block2_cell4_node2_skip0': tensor([ True, False]), 'block2_cell4_node2_skip1': tensor([False,  True]), 'block2_cell4_node2_skip2': tensor([ True, False]), 'block3_cell0_node0_main': tensor([False, False, False, False,  True, False]), 'block3_cell0_node0_skip0': tensor([ True, False]), 'block3_cell0_node1_main': tensor([False, False,  True, False, False, False]), 'block3_cell0_node1_skip0': tensor([ True, False]), 'block3_cell0_node1_skip1': tensor([False,  True]), 'block3_cell0_node2_main': tensor([False, False, False, False, False,  True]), 'block3_cell0_node2_skip0': tensor([False,  True]), 'block3_cell0_node2_skip1': tensor([ True, False]), 'block3_cell0_node2_skip2': tensor([False,  True]), 'block3_cell1_node0_main': tensor([False,  True, False, False, False, False]), 'block3_cell1_node0_skip0': tensor([False,  True]), 'block3_cell1_node1_main': tensor([False, False, False, False, False,  True]), 'block3_cell1_node1_skip0': tensor([ True, False]), 'block3_cell1_node1_skip1': tensor([ True, False]), 'block3_cell1_node2_main': tensor([False, False,  True, False, False, False]), 'block3_cell1_node2_skip0': tensor([False,  True]), 'block3_cell1_node2_skip1': tensor([ True, False]), 'block3_cell1_node2_skip2': tensor([ True, False]), 'block3_cell2_node0_main': tensor([False,  True, False, False, False, False]), 'block3_cell2_node0_skip0': tensor([ True, False]), 'block3_cell2_node1_main': tensor([ True, False, False, False, False, False]), 'block3_cell2_node1_skip0': tensor([ True, False]), 'block3_cell2_node1_skip1': tensor([False,  True]), 'block3_cell2_node2_main': tensor([False,  True, False, False, False, False]), 'block3_cell2_node2_skip0': tensor([ True, False]), 'block3_cell2_node2_skip1': tensor([ True, False]), 'block3_cell2_node2_skip2': tensor([ True, False]), 'block3_cell3_node0_main': tensor([False, False, False,  True, False, False]), 'block3_cell3_node0_skip0': tensor([False,  True]), 'block3_cell3_node1_main': tensor([ True, False, False, False, False, False]), 'block3_cell3_node1_skip0': tensor([ True, False]), 'block3_cell3_node1_skip1': tensor([False,  True]), 'block3_cell3_node2_main': tensor([ True, False, False, False, False, False]), 'block3_cell3_node2_skip0': tensor([False,  True]), 'block3_cell3_node2_skip1': tensor([False,  True]), 'block3_cell3_node2_skip2': tensor([False,  True]), 'block3_cell4_node0_main': tensor([False, False,  True, False, False, False]), 'block3_cell4_node0_skip0': tensor([ True, False]), 'block3_cell4_node1_main': tensor([False, False, False, False,  True, False]), 'block3_cell4_node1_skip0': tensor([ True, False]), 'block3_cell4_node1_skip1': tensor([False,  True]), 'block3_cell4_node2_main': tensor([False, False, False, False,  True, False]), 'block3_cell4_node2_skip0': tensor([ True, False]), 'block3_cell4_node2_skip1': tensor([False,  True]), 'block3_cell4_node2_skip2': tensor([False,  True]), 'block3_cell5_node0_main': tensor([False, False,  True, False, False, False]), 'block3_cell5_node0_skip0': tensor([ True, False]), 'block3_cell5_node1_main': tensor([False, False, False, False, False,  True]), 'block3_cell5_node1_skip0': tensor([ True, False]), 'block3_cell5_node1_skip1': tensor([ True, False]), 'block3_cell5_node2_main': tensor([False, False, False, False, False,  True]), 'block3_cell5_node2_skip0': tensor([False,  True]), 'block3_cell5_node2_skip1': tensor([ True, False]), 'block3_cell5_node2_skip2': tensor([ True, False])} 162\n",
      "torch.Size([2, 8, 49])\n",
      "{'block0_cell0_node0_main': tensor([False, False, False, False,  True, False]), 'block0_cell0_node0_skip0': tensor([ True, False]), 'block0_cell0_node1_main': tensor([False,  True, False, False, False, False]), 'block0_cell0_node1_skip0': tensor([False,  True]), 'block0_cell0_node1_skip1': tensor([False,  True]), 'block0_cell0_node2_main': tensor([False, False,  True, False, False, False]), 'block0_cell0_node2_skip0': tensor([ True, False]), 'block0_cell0_node2_skip1': tensor([ True, False]), 'block0_cell0_node2_skip2': tensor([False,  True]), 'block0_cell1_node0_main': tensor([False,  True, False, False, False, False]), 'block0_cell1_node0_skip0': tensor([False,  True]), 'block0_cell1_node1_main': tensor([False, False,  True, False, False, False]), 'block0_cell1_node1_skip0': tensor([False,  True]), 'block0_cell1_node1_skip1': tensor([ True, False]), 'block0_cell1_node2_main': tensor([False, False, False, False,  True, False]), 'block0_cell1_node2_skip0': tensor([ True, False]), 'block0_cell1_node2_skip1': tensor([ True, False]), 'block0_cell1_node2_skip2': tensor([False,  True]), 'block0_cell2_node0_main': tensor([False,  True, False, False, False, False]), 'block0_cell2_node0_skip0': tensor([ True, False]), 'block0_cell2_node1_main': tensor([False, False, False, False, False,  True]), 'block0_cell2_node1_skip0': tensor([ True, False]), 'block0_cell2_node1_skip1': tensor([False,  True]), 'block0_cell2_node2_main': tensor([False, False, False,  True, False, False]), 'block0_cell2_node2_skip0': tensor([False,  True]), 'block0_cell2_node2_skip1': tensor([ True, False]), 'block0_cell2_node2_skip2': tensor([False,  True]), 'block1_cell0_node0_main': tensor([False, False, False, False, False,  True]), 'block1_cell0_node0_skip0': tensor([ True, False]), 'block1_cell0_node1_main': tensor([False, False, False, False,  True, False]), 'block1_cell0_node1_skip0': tensor([ True, False]), 'block1_cell0_node1_skip1': tensor([False,  True]), 'block1_cell0_node2_main': tensor([False, False,  True, False, False, False]), 'block1_cell0_node2_skip0': tensor([ True, False]), 'block1_cell0_node2_skip1': tensor([ True, False]), 'block1_cell0_node2_skip2': tensor([ True, False]), 'block1_cell1_node0_main': tensor([False, False,  True, False, False, False]), 'block1_cell1_node0_skip0': tensor([False,  True]), 'block1_cell1_node1_main': tensor([ True, False, False, False, False, False]), 'block1_cell1_node1_skip0': tensor([ True, False]), 'block1_cell1_node1_skip1': tensor([ True, False]), 'block1_cell1_node2_main': tensor([ True, False, False, False, False, False]), 'block1_cell1_node2_skip0': tensor([ True, False]), 'block1_cell1_node2_skip1': tensor([False,  True]), 'block1_cell1_node2_skip2': tensor([False,  True]), 'block1_cell2_node0_main': tensor([False, False,  True, False, False, False]), 'block1_cell2_node0_skip0': tensor([ True, False]), 'block1_cell2_node1_main': tensor([ True, False, False, False, False, False]), 'block1_cell2_node1_skip0': tensor([False,  True]), 'block1_cell2_node1_skip1': tensor([False,  True]), 'block1_cell2_node2_main': tensor([False, False, False, False,  True, False]), 'block1_cell2_node2_skip0': tensor([False,  True]), 'block1_cell2_node2_skip1': tensor([ True, False]), 'block1_cell2_node2_skip2': tensor([ True, False]), 'block1_cell3_node0_main': tensor([False, False, False, False, False,  True]), 'block1_cell3_node0_skip0': tensor([False,  True]), 'block1_cell3_node1_main': tensor([False, False, False, False, False,  True]), 'block1_cell3_node1_skip0': tensor([ True, False]), 'block1_cell3_node1_skip1': tensor([ True, False]), 'block1_cell3_node2_main': tensor([False,  True, False, False, False, False]), 'block1_cell3_node2_skip0': tensor([ True, False]), 'block1_cell3_node2_skip1': tensor([False,  True]), 'block1_cell3_node2_skip2': tensor([False,  True]), 'block2_cell0_node0_main': tensor([ True, False, False, False, False, False]), 'block2_cell0_node0_skip0': tensor([ True, False]), 'block2_cell0_node1_main': tensor([False, False, False, False,  True, False]), 'block2_cell0_node1_skip0': tensor([False,  True]), 'block2_cell0_node1_skip1': tensor([ True, False]), 'block2_cell0_node2_main': tensor([False, False, False, False,  True, False]), 'block2_cell0_node2_skip0': tensor([False,  True]), 'block2_cell0_node2_skip1': tensor([False,  True]), 'block2_cell0_node2_skip2': tensor([False,  True]), 'block2_cell1_node0_main': tensor([False, False, False, False, False,  True]), 'block2_cell1_node0_skip0': tensor([False,  True]), 'block2_cell1_node1_main': tensor([False, False, False,  True, False, False]), 'block2_cell1_node1_skip0': tensor([ True, False]), 'block2_cell1_node1_skip1': tensor([ True, False]), 'block2_cell1_node2_main': tensor([ True, False, False, False, False, False]), 'block2_cell1_node2_skip0': tensor([ True, False]), 'block2_cell1_node2_skip1': tensor([False,  True]), 'block2_cell1_node2_skip2': tensor([ True, False]), 'block2_cell2_node0_main': tensor([False,  True, False, False, False, False]), 'block2_cell2_node0_skip0': tensor([False,  True]), 'block2_cell2_node1_main': tensor([False, False, False,  True, False, False]), 'block2_cell2_node1_skip0': tensor([False,  True]), 'block2_cell2_node1_skip1': tensor([ True, False]), 'block2_cell2_node2_main': tensor([False,  True, False, False, False, False]), 'block2_cell2_node2_skip0': tensor([ True, False]), 'block2_cell2_node2_skip1': tensor([False,  True]), 'block2_cell2_node2_skip2': tensor([ True, False]), 'block2_cell3_node0_main': tensor([False, False,  True, False, False, False]), 'block2_cell3_node0_skip0': tensor([ True, False]), 'block2_cell3_node1_main': tensor([False,  True, False, False, False, False]), 'block2_cell3_node1_skip0': tensor([False,  True]), 'block2_cell3_node1_skip1': tensor([False,  True]), 'block2_cell3_node2_main': tensor([False,  True, False, False, False, False]), 'block2_cell3_node2_skip0': tensor([False,  True]), 'block2_cell3_node2_skip1': tensor([False,  True]), 'block2_cell3_node2_skip2': tensor([False,  True]), 'block2_cell4_node0_main': tensor([False,  True, False, False, False, False]), 'block2_cell4_node0_skip0': tensor([ True, False]), 'block2_cell4_node1_main': tensor([ True, False, False, False, False, False]), 'block2_cell4_node1_skip0': tensor([ True, False]), 'block2_cell4_node1_skip1': tensor([ True, False]), 'block2_cell4_node2_main': tensor([ True, False, False, False, False, False]), 'block2_cell4_node2_skip0': tensor([False,  True]), 'block2_cell4_node2_skip1': tensor([ True, False]), 'block2_cell4_node2_skip2': tensor([ True, False]), 'block3_cell0_node0_main': tensor([ True, False, False, False, False, False]), 'block3_cell0_node0_skip0': tensor([ True, False]), 'block3_cell0_node1_main': tensor([False, False, False, False, False,  True]), 'block3_cell0_node1_skip0': tensor([False,  True]), 'block3_cell0_node1_skip1': tensor([ True, False]), 'block3_cell0_node2_main': tensor([ True, False, False, False, False, False]), 'block3_cell0_node2_skip0': tensor([ True, False]), 'block3_cell0_node2_skip1': tensor([ True, False]), 'block3_cell0_node2_skip2': tensor([ True, False]), 'block3_cell1_node0_main': tensor([False, False,  True, False, False, False]), 'block3_cell1_node0_skip0': tensor([False,  True]), 'block3_cell1_node1_main': tensor([False, False, False, False,  True, False]), 'block3_cell1_node1_skip0': tensor([ True, False]), 'block3_cell1_node1_skip1': tensor([False,  True]), 'block3_cell1_node2_main': tensor([False,  True, False, False, False, False]), 'block3_cell1_node2_skip0': tensor([False,  True]), 'block3_cell1_node2_skip1': tensor([ True, False]), 'block3_cell1_node2_skip2': tensor([ True, False]), 'block3_cell2_node0_main': tensor([False, False,  True, False, False, False]), 'block3_cell2_node0_skip0': tensor([ True, False]), 'block3_cell2_node1_main': tensor([False,  True, False, False, False, False]), 'block3_cell2_node1_skip0': tensor([False,  True]), 'block3_cell2_node1_skip1': tensor([ True, False]), 'block3_cell2_node2_main': tensor([ True, False, False, False, False, False]), 'block3_cell2_node2_skip0': tensor([False,  True]), 'block3_cell2_node2_skip1': tensor([False,  True]), 'block3_cell2_node2_skip2': tensor([ True, False]), 'block3_cell3_node0_main': tensor([ True, False, False, False, False, False]), 'block3_cell3_node0_skip0': tensor([ True, False]), 'block3_cell3_node1_main': tensor([False, False, False,  True, False, False]), 'block3_cell3_node1_skip0': tensor([ True, False]), 'block3_cell3_node1_skip1': tensor([False,  True]), 'block3_cell3_node2_main': tensor([False,  True, False, False, False, False]), 'block3_cell3_node2_skip0': tensor([ True, False]), 'block3_cell3_node2_skip1': tensor([False,  True]), 'block3_cell3_node2_skip2': tensor([False,  True]), 'block3_cell4_node0_main': tensor([False, False,  True, False, False, False]), 'block3_cell4_node0_skip0': tensor([False,  True]), 'block3_cell4_node1_main': tensor([False, False, False, False,  True, False]), 'block3_cell4_node1_skip0': tensor([ True, False]), 'block3_cell4_node1_skip1': tensor([ True, False]), 'block3_cell4_node2_main': tensor([False, False, False,  True, False, False]), 'block3_cell4_node2_skip0': tensor([ True, False]), 'block3_cell4_node2_skip1': tensor([False,  True]), 'block3_cell4_node2_skip2': tensor([False,  True]), 'block3_cell5_node0_main': tensor([False, False, False,  True, False, False]), 'block3_cell5_node0_skip0': tensor([ True, False]), 'block3_cell5_node1_main': tensor([False, False,  True, False, False, False]), 'block3_cell5_node1_skip0': tensor([False,  True]), 'block3_cell5_node1_skip1': tensor([ True, False]), 'block3_cell5_node2_main': tensor([False, False,  True, False, False, False]), 'block3_cell5_node2_skip0': tensor([ True, False]), 'block3_cell5_node2_skip1': tensor([ True, False]), 'block3_cell5_node2_skip2': tensor([ True, False])} 162\n"
     ]
    }
   ],
   "source": [
    "B, F, T = 2, 80, 30\n",
    "for T in [16, 32]:\n",
    "    x = torch.rand(B, F, T)\n",
    "    rm.reset() # 每次随机采样和激活一个新的子网\n",
    "    y = model(x)\n",
    "    print(y.shape)\n",
    "    print(rm._cache, len(rm._cache))\n"
   ]
  },
  {
   "cell_type": "markdown",
   "metadata": {},
   "source": [
    "## 3.4 不同编码方式互相转换"
   ]
  },
  {
   "cell_type": "markdown",
   "metadata": {},
   "source": [
    "我们首先设置了以列表格式定义的模型结构：\n",
    "- 第一个节点：\n",
    "    - main edge操作为linear\n",
    "    - skip-connection edge的操作是索引值为1的操作，0表示zeroize，1表示identity\n",
    "- ['conv5', 1, 0], # 第二个节点\n",
    "- ['conv7d2', 1, 0, 1], # 第三个节点"
   ]
  },
  {
   "cell_type": "code",
   "execution_count": 3,
   "metadata": {},
   "outputs": [],
   "source": [
    "list_desc = [\n",
    "    ['linear', 1],\n",
    "    ['conv5', 1, 0],\n",
    "    ['conv7d2', 1, 0, 1],\n",
    "]\n"
   ]
  },
  {
   "cell_type": "markdown",
   "metadata": {},
   "source": [
    "通过`NASBenchASR`的 classmethod `list_desc_to_dict_mask`将其转换成字典格式，并赋值给`mask`变量"
   ]
  },
  {
   "cell_type": "code",
   "execution_count": 4,
   "metadata": {},
   "outputs": [
    {
     "name": "stdout",
     "output_type": "stream",
     "text": [
      "{'block0_cell0_node0_main': tensor([ True, False, False, False, False, False]), 'block0_cell0_node0_skip0': tensor([False,  True]), 'block0_cell0_node1_main': tensor([False,  True, False, False, False, False]), 'block0_cell0_node1_skip0': tensor([False,  True]), 'block0_cell0_node1_skip1': tensor([ True, False]), 'block0_cell0_node2_main': tensor([False, False, False, False,  True, False]), 'block0_cell0_node2_skip0': tensor([False,  True]), 'block0_cell0_node2_skip1': tensor([ True, False]), 'block0_cell0_node2_skip2': tensor([False,  True]), 'block0_cell1_node0_main': tensor([ True, False, False, False, False, False]), 'block0_cell1_node0_skip0': tensor([False,  True]), 'block0_cell1_node1_main': tensor([False,  True, False, False, False, False]), 'block0_cell1_node1_skip0': tensor([False,  True]), 'block0_cell1_node1_skip1': tensor([ True, False]), 'block0_cell1_node2_main': tensor([False, False, False, False,  True, False]), 'block0_cell1_node2_skip0': tensor([False,  True]), 'block0_cell1_node2_skip1': tensor([ True, False]), 'block0_cell1_node2_skip2': tensor([False,  True]), 'block0_cell2_node0_main': tensor([ True, False, False, False, False, False]), 'block0_cell2_node0_skip0': tensor([False,  True]), 'block0_cell2_node1_main': tensor([False,  True, False, False, False, False]), 'block0_cell2_node1_skip0': tensor([False,  True]), 'block0_cell2_node1_skip1': tensor([ True, False]), 'block0_cell2_node2_main': tensor([False, False, False, False,  True, False]), 'block0_cell2_node2_skip0': tensor([False,  True]), 'block0_cell2_node2_skip1': tensor([ True, False]), 'block0_cell2_node2_skip2': tensor([False,  True]), 'block1_cell0_node0_main': tensor([ True, False, False, False, False, False]), 'block1_cell0_node0_skip0': tensor([False,  True]), 'block1_cell0_node1_main': tensor([False,  True, False, False, False, False]), 'block1_cell0_node1_skip0': tensor([False,  True]), 'block1_cell0_node1_skip1': tensor([ True, False]), 'block1_cell0_node2_main': tensor([False, False, False, False,  True, False]), 'block1_cell0_node2_skip0': tensor([False,  True]), 'block1_cell0_node2_skip1': tensor([ True, False]), 'block1_cell0_node2_skip2': tensor([False,  True]), 'block1_cell1_node0_main': tensor([ True, False, False, False, False, False]), 'block1_cell1_node0_skip0': tensor([False,  True]), 'block1_cell1_node1_main': tensor([False,  True, False, False, False, False]), 'block1_cell1_node1_skip0': tensor([False,  True]), 'block1_cell1_node1_skip1': tensor([ True, False]), 'block1_cell1_node2_main': tensor([False, False, False, False,  True, False]), 'block1_cell1_node2_skip0': tensor([False,  True]), 'block1_cell1_node2_skip1': tensor([ True, False]), 'block1_cell1_node2_skip2': tensor([False,  True]), 'block1_cell2_node0_main': tensor([ True, False, False, False, False, False]), 'block1_cell2_node0_skip0': tensor([False,  True]), 'block1_cell2_node1_main': tensor([False,  True, False, False, False, False]), 'block1_cell2_node1_skip0': tensor([False,  True]), 'block1_cell2_node1_skip1': tensor([ True, False]), 'block1_cell2_node2_main': tensor([False, False, False, False,  True, False]), 'block1_cell2_node2_skip0': tensor([False,  True]), 'block1_cell2_node2_skip1': tensor([ True, False]), 'block1_cell2_node2_skip2': tensor([False,  True]), 'block1_cell3_node0_main': tensor([ True, False, False, False, False, False]), 'block1_cell3_node0_skip0': tensor([False,  True]), 'block1_cell3_node1_main': tensor([False,  True, False, False, False, False]), 'block1_cell3_node1_skip0': tensor([False,  True]), 'block1_cell3_node1_skip1': tensor([ True, False]), 'block1_cell3_node2_main': tensor([False, False, False, False,  True, False]), 'block1_cell3_node2_skip0': tensor([False,  True]), 'block1_cell3_node2_skip1': tensor([ True, False]), 'block1_cell3_node2_skip2': tensor([False,  True]), 'block2_cell0_node0_main': tensor([ True, False, False, False, False, False]), 'block2_cell0_node0_skip0': tensor([False,  True]), 'block2_cell0_node1_main': tensor([False,  True, False, False, False, False]), 'block2_cell0_node1_skip0': tensor([False,  True]), 'block2_cell0_node1_skip1': tensor([ True, False]), 'block2_cell0_node2_main': tensor([False, False, False, False,  True, False]), 'block2_cell0_node2_skip0': tensor([False,  True]), 'block2_cell0_node2_skip1': tensor([ True, False]), 'block2_cell0_node2_skip2': tensor([False,  True]), 'block2_cell1_node0_main': tensor([ True, False, False, False, False, False]), 'block2_cell1_node0_skip0': tensor([False,  True]), 'block2_cell1_node1_main': tensor([False,  True, False, False, False, False]), 'block2_cell1_node1_skip0': tensor([False,  True]), 'block2_cell1_node1_skip1': tensor([ True, False]), 'block2_cell1_node2_main': tensor([False, False, False, False,  True, False]), 'block2_cell1_node2_skip0': tensor([False,  True]), 'block2_cell1_node2_skip1': tensor([ True, False]), 'block2_cell1_node2_skip2': tensor([False,  True]), 'block2_cell2_node0_main': tensor([ True, False, False, False, False, False]), 'block2_cell2_node0_skip0': tensor([False,  True]), 'block2_cell2_node1_main': tensor([False,  True, False, False, False, False]), 'block2_cell2_node1_skip0': tensor([False,  True]), 'block2_cell2_node1_skip1': tensor([ True, False]), 'block2_cell2_node2_main': tensor([False, False, False, False,  True, False]), 'block2_cell2_node2_skip0': tensor([False,  True]), 'block2_cell2_node2_skip1': tensor([ True, False]), 'block2_cell2_node2_skip2': tensor([False,  True]), 'block2_cell3_node0_main': tensor([ True, False, False, False, False, False]), 'block2_cell3_node0_skip0': tensor([False,  True]), 'block2_cell3_node1_main': tensor([False,  True, False, False, False, False]), 'block2_cell3_node1_skip0': tensor([False,  True]), 'block2_cell3_node1_skip1': tensor([ True, False]), 'block2_cell3_node2_main': tensor([False, False, False, False,  True, False]), 'block2_cell3_node2_skip0': tensor([False,  True]), 'block2_cell3_node2_skip1': tensor([ True, False]), 'block2_cell3_node2_skip2': tensor([False,  True]), 'block2_cell4_node0_main': tensor([ True, False, False, False, False, False]), 'block2_cell4_node0_skip0': tensor([False,  True]), 'block2_cell4_node1_main': tensor([False,  True, False, False, False, False]), 'block2_cell4_node1_skip0': tensor([False,  True]), 'block2_cell4_node1_skip1': tensor([ True, False]), 'block2_cell4_node2_main': tensor([False, False, False, False,  True, False]), 'block2_cell4_node2_skip0': tensor([False,  True]), 'block2_cell4_node2_skip1': tensor([ True, False]), 'block2_cell4_node2_skip2': tensor([False,  True]), 'block3_cell0_node0_main': tensor([ True, False, False, False, False, False]), 'block3_cell0_node0_skip0': tensor([False,  True]), 'block3_cell0_node1_main': tensor([False,  True, False, False, False, False]), 'block3_cell0_node1_skip0': tensor([False,  True]), 'block3_cell0_node1_skip1': tensor([ True, False]), 'block3_cell0_node2_main': tensor([False, False, False, False,  True, False]), 'block3_cell0_node2_skip0': tensor([False,  True]), 'block3_cell0_node2_skip1': tensor([ True, False]), 'block3_cell0_node2_skip2': tensor([False,  True]), 'block3_cell1_node0_main': tensor([ True, False, False, False, False, False]), 'block3_cell1_node0_skip0': tensor([False,  True]), 'block3_cell1_node1_main': tensor([False,  True, False, False, False, False]), 'block3_cell1_node1_skip0': tensor([False,  True]), 'block3_cell1_node1_skip1': tensor([ True, False]), 'block3_cell1_node2_main': tensor([False, False, False, False,  True, False]), 'block3_cell1_node2_skip0': tensor([False,  True]), 'block3_cell1_node2_skip1': tensor([ True, False]), 'block3_cell1_node2_skip2': tensor([False,  True]), 'block3_cell2_node0_main': tensor([ True, False, False, False, False, False]), 'block3_cell2_node0_skip0': tensor([False,  True]), 'block3_cell2_node1_main': tensor([False,  True, False, False, False, False]), 'block3_cell2_node1_skip0': tensor([False,  True]), 'block3_cell2_node1_skip1': tensor([ True, False]), 'block3_cell2_node2_main': tensor([False, False, False, False,  True, False]), 'block3_cell2_node2_skip0': tensor([False,  True]), 'block3_cell2_node2_skip1': tensor([ True, False]), 'block3_cell2_node2_skip2': tensor([False,  True]), 'block3_cell3_node0_main': tensor([ True, False, False, False, False, False]), 'block3_cell3_node0_skip0': tensor([False,  True]), 'block3_cell3_node1_main': tensor([False,  True, False, False, False, False]), 'block3_cell3_node1_skip0': tensor([False,  True]), 'block3_cell3_node1_skip1': tensor([ True, False]), 'block3_cell3_node2_main': tensor([False, False, False, False,  True, False]), 'block3_cell3_node2_skip0': tensor([False,  True]), 'block3_cell3_node2_skip1': tensor([ True, False]), 'block3_cell3_node2_skip2': tensor([False,  True]), 'block3_cell4_node0_main': tensor([ True, False, False, False, False, False]), 'block3_cell4_node0_skip0': tensor([False,  True]), 'block3_cell4_node1_main': tensor([False,  True, False, False, False, False]), 'block3_cell4_node1_skip0': tensor([False,  True]), 'block3_cell4_node1_skip1': tensor([ True, False]), 'block3_cell4_node2_main': tensor([False, False, False, False,  True, False]), 'block3_cell4_node2_skip0': tensor([False,  True]), 'block3_cell4_node2_skip1': tensor([ True, False]), 'block3_cell4_node2_skip2': tensor([False,  True]), 'block3_cell5_node0_main': tensor([ True, False, False, False, False, False]), 'block3_cell5_node0_skip0': tensor([False,  True]), 'block3_cell5_node1_main': tensor([False,  True, False, False, False, False]), 'block3_cell5_node1_skip0': tensor([False,  True]), 'block3_cell5_node1_skip1': tensor([ True, False]), 'block3_cell5_node2_main': tensor([False, False, False, False,  True, False]), 'block3_cell5_node2_skip0': tensor([False,  True]), 'block3_cell5_node2_skip1': tensor([ True, False]), 'block3_cell5_node2_skip2': tensor([False,  True])}\n"
     ]
    }
   ],
   "source": [
    "mask = NASBenchASR.list_desc_to_dict_mask(list_desc)\n",
    "print(mask)"
   ]
  },
  {
   "cell_type": "markdown",
   "metadata": {},
   "source": [
    "将`mask`作为参数传递给`NASBenchASR`初始化对应的子网结构。\n",
    "\n",
    "注意，如果mask为None，会创建 Supernet；否则，会构建对应的子网结构，"
   ]
  },
  {
   "cell_type": "code",
   "execution_count": 6,
   "metadata": {},
   "outputs": [
    {
     "name": "stdout",
     "output_type": "stream",
     "text": [
      "43102949\n"
     ]
    }
   ],
   "source": [
    "model2 = NASBenchASR(mask=mask)\n",
    "print(sum([p.numel() for p in model2.parameters()]))\n",
    "y = model(x)\n"
   ]
  },
  {
   "cell_type": "markdown",
   "metadata": {},
   "source": [
    "上面代码中，我们首先设置了以列表格式定义的模型结构，然后通过`NASBenchASR`的classmethod `list_desc_to_dict_mask`将其转换成字典格式"
   ]
  },
  {
   "cell_type": "markdown",
   "metadata": {},
   "source": [
    "## 3.5 查询模型信息"
   ]
  },
  {
   "cell_type": "code",
   "execution_count": 7,
   "metadata": {},
   "outputs": [
    {
     "name": "stdout",
     "output_type": "stream",
     "text": [
      "{'val_per': [0.97343427, 0.8234044, 0.84591883, 0.85216177, 0.8556153], 'test_per': 0.8257796168327332, 'arch_vec': [(0, 1), (1, 1, 0), (4, 1, 0, 1)], 'model_hash': 'adb47992d93622245376905cc956a149', 'seed': 1234, 'jetson-nano-fp32': {'latency': 0.578345775604248}, 'gtx-1080ti-fp32': {'latency': 0.04792499542236328}}\n",
      "3845877266\n",
      "{'jetson-nano-fp32': {'latency': 0.578345775604248}, 'gtx-1080ti-fp32': {'latency': 0.04792499542236328}}\n",
      "43100448\n",
      "0.24767844378948212\n",
      "0.22275354\n"
     ]
    }
   ],
   "source": [
    "\n",
    "print(model2.query_full_info(max_epochs=5))\n",
    "print(model2.query_flops())\n",
    "print(model2.query_latency())\n",
    "print(model2.query_params())\n",
    "print(model2.query_test_acc())\n",
    "print(model2.query_val_acc())"
   ]
  }
 ],
 "metadata": {
  "kernelspec": {
   "display_name": "hyperbox",
   "language": "python",
   "name": "python3"
  },
  "language_info": {
   "codemirror_mode": {
    "name": "ipython",
    "version": 3
   },
   "file_extension": ".py",
   "mimetype": "text/x-python",
   "name": "python",
   "nbconvert_exporter": "python",
   "pygments_lexer": "ipython3",
   "version": "3.7.13"
  }
 },
 "nbformat": 4,
 "nbformat_minor": 2
}
