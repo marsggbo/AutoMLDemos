{
 "cells": [
  {
   "cell_type": "markdown",
   "metadata": {},
   "source": [
    "<a href=\"https://colab.research.google.com/github/marsggbo/AutoMLDemos/blob/master/ch4/nasbench101.ipynb\" target=\"_parent\"><img src=\"https://colab.research.google.com/assets/colab-badge.svg\" alt=\"Open In Colab\"/></a>"
   ]
  },
  {
   "cell_type": "markdown",
   "metadata": {},
   "source": [
    "# 1. 下载安装"
   ]
  },
  {
   "cell_type": "code",
   "execution_count": null,
   "metadata": {},
   "outputs": [],
   "source": [
    "!git clone https://github.com/marsggbo/hyperbox.git"
   ]
  },
  {
   "cell_type": "code",
   "execution_count": null,
   "metadata": {},
   "outputs": [],
   "source": [
    "cd hyperbox"
   ]
  },
  {
   "cell_type": "code",
   "execution_count": null,
   "metadata": {},
   "outputs": [],
   "source": [
    "!pip install -e ."
   ]
  },
  {
   "cell_type": "markdown",
   "metadata": {},
   "source": [
    "# 2. 下载查询数据库"
   ]
  },
  {
   "cell_type": "code",
   "execution_count": null,
   "metadata": {},
   "outputs": [],
   "source": [
    "%%bash\n",
    "pip install peewee\n",
    "pip install gdown\n",
    "\n",
    "if [ -z \"${NASBENCHMARK_DIR}\" ]; then\n",
    "    NASBENCHMARK_DIR=~/.hyperbox/nasbenchmark\n",
    "fi\n",
    "\n",
    "echo \"Downloading NAS-Bench-201...\"\n",
    "if [ -f \"nb201.pth\" ]; then\n",
    "    echo \"nb201.pth found. Skip download.\"\n",
    "else\n",
    "    gdown https://drive.google.com/uc\\?id\\=16Y0UwGisiouVRxW-W5hEtbxmcHw_0hF_ -O nb201.pth\n",
    "fi\n",
    "\n",
    "echo \"Generating database...\"\n",
    "rm -f ${NASBENCHMARK_DIR}/nasbench201.db ${NASBENCHMARK_DIR}/nasbench201.db-journal\n",
    "mkdir -p ${NASBENCHMARK_DIR}"
   ]
  },
  {
   "cell_type": "markdown",
   "metadata": {},
   "source": [
    "接下来我们运行如下代码解析NAS-Bench-201数据集（`nb201.pth`文件）。\n",
    "\n",
    "注意这个文件比较大，所以对内存要求比较大，实测Google Colab免费版本无法正常运行，建议在CPU内存更大的设备上运行。"
   ]
  },
  {
   "cell_type": "code",
   "execution_count": null,
   "metadata": {},
   "outputs": [],
   "source": [
    "!python hyperbox/networks/nasbench201/db_gen/db_gen.py nb201.pth"
   ]
  },
  {
   "cell_type": "markdown",
   "metadata": {},
   "source": [
    "# 3. 使用NAS-Bench-201数据集"
   ]
  },
  {
   "cell_type": "code",
   "execution_count": 2,
   "metadata": {},
   "outputs": [
    {
     "name": "stderr",
     "output_type": "stream",
     "text": [
      "/Users/marsggbo/opt/anaconda3/envs/hyperbox/lib/python3.7/site-packages/tqdm/auto.py:21: TqdmWarning: IProgress not found. Please update jupyter and ipywidgets. See https://ipywidgets.readthedocs.io/en/stable/user_install.html\n",
      "  from .autonotebook import tqdm as notebook_tqdm\n"
     ]
    }
   ],
   "source": [
    "# 1. 引入相关包\n",
    "\n",
    "import torch\n",
    "\n",
    "from hyperbox.mutator import RandomMutator\n",
    "from hyperbox.networks.nasbench201 import NASBench201Network\n",
    "from hyperbox.networks.nasbench201.db_gen import query_nb201_trial_stats\n",
    "device = 'cuda' if torch.cuda.is_available() else 'cpu'\n"
   ]
  },
  {
   "cell_type": "code",
   "execution_count": 3,
   "metadata": {},
   "outputs": [],
   "source": [
    "# 2. 构建搜索空间和随机搜索策略\n",
    "\n",
    "net = NASBench201Network().to(device)\n",
    "rm = RandomMutator(net)\n"
   ]
  },
  {
   "cell_type": "code",
   "execution_count": 4,
   "metadata": {},
   "outputs": [
    {
     "name": "stdout",
     "output_type": "stream",
     "text": [
      "0_1 tensor([False, False,  True, False, False])\n",
      "0_2 tensor([False, False,  True, False, False])\n",
      "1_2 tensor([False,  True, False, False, False])\n",
      "0_3 tensor([False, False, False, False,  True])\n",
      "1_3 tensor([False,  True, False, False, False])\n",
      "2_3 tensor([ True, False, False, False, False])\n",
      "0 None\n",
      "0_1 tensor([False, False,  True, False, False])\n",
      "0_2 tensor([False, False,  True, False, False])\n",
      "1_2 tensor([False,  True, False, False, False])\n",
      "0_3 tensor([False, False, False, False,  True])\n",
      "1_3 tensor([False,  True, False, False, False])\n",
      "2_3 tensor([ True, False, False, False, False])\n",
      "2 None\n",
      "0_1 tensor([False, False,  True, False, False])\n",
      "0_2 tensor([False, False,  True, False, False])\n",
      "1_2 tensor([False,  True, False, False, False])\n",
      "0_3 tensor([False, False, False, False,  True])\n",
      "1_3 tensor([False,  True, False, False, False])\n",
      "2_3 tensor([ True, False, False, False, False])\n",
      "4 None\n",
      "(314.24544, 2.1338882446289062)\n",
      "0_1 tensor([False, False, False,  True, False])\n",
      "0_2 tensor([False,  True, False, False, False])\n",
      "1_2 tensor([False, False, False, False,  True])\n",
      "0_3 tensor([False, False,  True, False, False])\n",
      "1_3 tensor([False, False,  True, False, False])\n",
      "2_3 tensor([False, False, False, False,  True])\n",
      "0 None\n",
      "0_1 tensor([False, False, False,  True, False])\n",
      "0_2 tensor([False,  True, False, False, False])\n",
      "1_2 tensor([False, False, False, False,  True])\n",
      "0_3 tensor([False, False,  True, False, False])\n",
      "1_3 tensor([False, False,  True, False, False])\n",
      "2_3 tensor([False, False, False, False,  True])\n",
      "2 None\n",
      "0_1 tensor([False, False, False,  True, False])\n",
      "0_2 tensor([False,  True, False, False, False])\n",
      "1_2 tensor([False, False, False, False,  True])\n",
      "0_3 tensor([False, False,  True, False, False])\n",
      "1_3 tensor([False, False,  True, False, False])\n",
      "2_3 tensor([False, False, False, False,  True])\n",
      "4 None\n",
      "(329.97408, 2.2406997680664062)\n",
      "0_1 tensor([False,  True, False, False, False])\n",
      "0_2 tensor([False, False, False,  True, False])\n",
      "1_2 tensor([False, False,  True, False, False])\n",
      "0_3 tensor([False, False, False,  True, False])\n",
      "1_3 tensor([False, False, False,  True, False])\n",
      "2_3 tensor([False, False, False, False,  True])\n",
      "0 None\n",
      "0_1 tensor([False,  True, False, False, False])\n",
      "0_2 tensor([False, False, False,  True, False])\n",
      "1_2 tensor([False, False,  True, False, False])\n",
      "0_3 tensor([False, False, False,  True, False])\n",
      "1_3 tensor([False, False, False,  True, False])\n",
      "2_3 tensor([False, False, False, False,  True])\n",
      "2 None\n",
      "0_1 tensor([False,  True, False, False, False])\n",
      "0_2 tensor([False, False, False,  True, False])\n",
      "1_2 tensor([False, False,  True, False, False])\n",
      "0_3 tensor([False, False, False,  True, False])\n",
      "1_3 tensor([False, False, False,  True, False])\n",
      "2_3 tensor([False, False, False, False,  True])\n",
      "4 None\n",
      "(219.8736, 1.5271987915039062)\n"
     ]
    }
   ],
   "source": [
    "# 3. 随机采样并输出模型结构\n",
    "for i in range(3):\n",
    "    rm.reset()\n",
    "    print(0, net.print_cell_mask_by_idx(0))\n",
    "    print(2, net.print_cell_mask_by_idx(2))\n",
    "    print(4, net.print_cell_mask_by_idx(4))\n",
    "    a = torch.rand(2, 3, 64, 64).to(device)\n",
    "    b = net(a)\n",
    "    print(net.arch_size((2,3,64,64)))"
   ]
  },
  {
   "cell_type": "code",
   "execution_count": null,
   "metadata": {},
   "outputs": [],
   "source": [
    "# 4. 随机采样并输出模型的信息\n",
    "for i in range(3):\n",
    "    rm.reset()\n",
    "    arch_json = net.arch \n",
    "    acc = net.query_by_key()\n",
    "    print(acc)\n",
    "    # 输出在cifar10数据集上训练200个epoch后的结果\n",
    "    for t in query_nb201_trial_stats(arch_json, 200, 'cifar10'):\n",
    "        print(t)"
   ]
  }
 ],
 "metadata": {
  "kernelspec": {
   "display_name": "hyperbox",
   "language": "python",
   "name": "python3"
  },
  "language_info": {
   "codemirror_mode": {
    "name": "ipython",
    "version": 3
   },
   "file_extension": ".py",
   "mimetype": "text/x-python",
   "name": "python",
   "nbconvert_exporter": "python",
   "pygments_lexer": "ipython3",
   "version": "3.7.13"
  }
 },
 "nbformat": 4,
 "nbformat_minor": 2
}
