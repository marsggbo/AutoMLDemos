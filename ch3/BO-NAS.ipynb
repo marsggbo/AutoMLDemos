{
 "cells": [
  {
   "attachments": {},
   "cell_type": "markdown",
   "id": "b70013ab",
   "metadata": {},
   "source": [
    "<a href=\"https://colab.research.google.com/github/marsggbo/AutoMLDemos/blob/master/ch3/BO-NAS.ipynb\" target=\"_parent\"><img src=\"https://colab.research.google.com/assets/colab-badge.svg\" alt=\"Open In Colab\"/></a>"
   ]
  },
  {
   "cell_type": "markdown",
   "id": "0c060740-6b5b-437f-b326-7005d6041cc9",
   "metadata": {},
   "source": [
    "## 1. 搜索空间"
   ]
  },
  {
   "cell_type": "code",
   "execution_count": 1,
   "id": "2747b891-1e25-4f33-b85d-9df56682388d",
   "metadata": {},
   "outputs": [
    {
     "name": "stderr",
     "output_type": "stream",
     "text": [
      "D:\\miniconda3\\envs\\hyperbox\\lib\\site-packages\\tqdm\\auto.py:22: TqdmWarning: IProgress not found. Please update jupyter and ipywidgets. See https://ipywidgets.readthedocs.io/en/stable/user_install.html\n",
      "  from .autonotebook import tqdm as notebook_tqdm\n"
     ]
    }
   ],
   "source": [
    "\n",
    "import random\n",
    "import torch\n",
    "from torch import nn\n",
    "\n",
    "# 搜索空间总共包含3**6=729个候选模型\n",
    "spaces = {\n",
    "    'channels_1': [16, 32, 64],\n",
    "    'channels_2': [16, 32, 64],\n",
    "    'channels_3': [16, 32, 64],\n",
    "    'kernel_size_1': [3, 5, 7],\n",
    "    'kernel_size_2': [3, 5, 7],\n",
    "    'kernel_size_3': [3, 5, 7],\n",
    "} \n",
    "\n",
    "# 随机采样模型编码\n",
    "def sample_encoding():\n",
    "    encoding = [random.choice(space) for space in spaces.values()]\n",
    "    return encoding\n",
    "\n",
    "# 模型构造函数\n",
    "def build_model(c1, c2, c3, ks1, ks2, ks3):\n",
    "    return nn.Sequential(\n",
    "        nn.Conv2d(3, c1, kernel_size=ks1, stride=1, padding=ks1//2),\n",
    "        nn.BatchNorm2d(c1), nn.ReLU(),\n",
    "        nn.Conv2d(c1, c2, kernel_size=ks2, stride=2, padding=ks2//2),\n",
    "        nn.BatchNorm2d(c2), nn.ReLU(),\n",
    "        nn.Conv2d(c2, c3, kernel_size=ks3, stride=2, padding=ks3//2),\n",
    "        nn.BatchNorm2d(c3), nn.ReLU(),\n",
    "        nn.AdaptiveAvgPool2d(1), nn.Flatten(1),\n",
    "        nn.Linear(c3, 10),  # 假设最后一层是10类分类任务\n",
    "    )\n",
    "\n",
    "def evaluate_model(model):\n",
    "    accuracy = torch.rand(1).item()\n",
    "    # 省略模型评估过程，根据具体任务进行模型评估，并返回性能指标\n",
    "    return accuracy"
   ]
  },
  {
   "cell_type": "markdown",
   "id": "48055394-8ea1-49d7-91c8-724f86839e78",
   "metadata": {},
   "source": [
    "## 2. 代理模型：高斯过程"
   ]
  },
  {
   "cell_type": "code",
   "execution_count": 2,
   "id": "8f52ce96-ebd8-4534-8095-d0e2d8c3cd90",
   "metadata": {},
   "outputs": [],
   "source": [
    "\n",
    "import numpy as np\n",
    "\n",
    "class GaussianKernel:\n",
    "    def __init__(self, length_scale=1.0, variance=1.0):\n",
    "        self.length_scale = length_scale\n",
    "        self.variance = variance\n",
    "    \n",
    "    def compute(self, X1, X2):\n",
    "        pairwise_dists = np.abs(X1[:, None] - X2).sum(axis=2) # 曼哈顿距离\n",
    "        K = self.variance * np.exp(-0.5 * pairwise_dists / self.length_scale**2)\n",
    "        return K\n",
    "    \n",
    "class GaussianProcess:\n",
    "    def __init__(self):\n",
    "        self.kernel = GaussianKernel()\n",
    "        self.X = None\n",
    "        self.y = None\n",
    "        self.K = None\n",
    "        self.K_inv = None\n",
    "        \n",
    "    def fit(self, X, y):\n",
    "        self.X = X\n",
    "        self.y = y\n",
    "        # 计算协方差矩阵\n",
    "        self.K = self.kernel.compute(self.X, self.X)\n",
    "        # 添加噪声\n",
    "        noise = 1e-6\n",
    "        self.K += noise * np.eye(len(self.X))\n",
    "        # 计算协方差矩阵的逆\n",
    "        self.K_inv = np.linalg.inv(self.K)\n",
    "            \n",
    "    def predict(self, X_new):\n",
    "        # 计算均值向量\n",
    "        K_star = self.kernel.compute(self.X, X_new)\n",
    "        mean = np.dot(K_star.T, np.dot(self.K_inv, self.y))\n",
    "        # 计算协方差矩阵\n",
    "        K_star_star = self.kernel.compute(X_new, X_new)\n",
    "        cov = K_star_star - np.dot(K_star.T, np.dot(self.K_inv, K_star))\n",
    "        return mean, cov"
   ]
  },
  {
   "cell_type": "markdown",
   "id": "1f4f0e09-371d-4c13-a95b-ae89802f9bbf",
   "metadata": {},
   "source": [
    "## 3. 采集函数：期望改进"
   ]
  },
  {
   "cell_type": "code",
   "execution_count": 3,
   "id": "eda2f9c6-9fdf-4722-bc33-b75d20aadbb3",
   "metadata": {},
   "outputs": [],
   "source": [
    "\n",
    "from scipy.stats import norm\n",
    "\n",
    "def expected_improvement(X_candidates, X_init, y_init, gp, xi=0.01):\n",
    "    # 计算当前已评估架构的均值和方差\n",
    "    mean, cov = gp.predict(X_candidates)\n",
    "    std = np.sqrt(np.diag(cov))\n",
    "    # 计算期望改进\n",
    "    best_performance = np.max(y_init)\n",
    "    z = (mean - best_performance - xi) / std\n",
    "    ei = (mean - best_performance - xi) * norm.cdf(z) + std * norm.pdf(z)\n",
    "    # 选择具有最大期望改进的架构\n",
    "    next_idx = np.argmax(ei)\n",
    "    next_architecture = X_candidates[next_idx]\n",
    "    return next_architecture\n"
   ]
  },
  {
   "cell_type": "markdown",
   "id": "e415bbb6-624d-4841-9be7-47a6ab4b3691",
   "metadata": {},
   "source": [
    "## 4. 主函数"
   ]
  },
  {
   "cell_type": "markdown",
   "id": "c9540342-d6c8-4897-bd0a-97261191b69b",
   "metadata": {},
   "source": [
    "### 4.1 初始化"
   ]
  },
  {
   "cell_type": "code",
   "execution_count": 4,
   "id": "7de473f2-6ccc-4d53-b1d9-27361993334e",
   "metadata": {},
   "outputs": [],
   "source": [
    "\n",
    "def init(num=20):\n",
    "    X_init, y_init = [], []\n",
    "    for i in range(num):\n",
    "        encoding = sample_encoding()\n",
    "        model = build_model(*encoding)\n",
    "        X_init.append(encoding)\n",
    "        y_init.append(evaluate_model(model)) # 评估模型性能\n",
    "    return np.array(X_init), np.array(y_init)"
   ]
  },
  {
   "cell_type": "markdown",
   "id": "9ea67771-3552-4d6f-b4e3-2b3360dc2495",
   "metadata": {},
   "source": [
    "### 4.2 生成候选模型"
   ]
  },
  {
   "cell_type": "code",
   "execution_count": 5,
   "id": "015b4a39-fcdc-4761-8ac4-600d443f4869",
   "metadata": {},
   "outputs": [],
   "source": [
    "\n",
    "def generate_candidates(num_candidates):\n",
    "    candidates = [sample_encoding() for _ in range(num_candidates)]\n",
    "    return np.array(candidates)"
   ]
  },
  {
   "cell_type": "markdown",
   "id": "b859e949-88da-408d-a3d9-48ebf1c75878",
   "metadata": {},
   "source": [
    "### 4.3 Main"
   ]
  },
  {
   "cell_type": "code",
   "execution_count": 6,
   "id": "51503844-f25a-44db-9b9e-2785b3d42722",
   "metadata": {},
   "outputs": [
    {
     "name": "stdout",
     "output_type": "stream",
     "text": [
      "最优架构： [16 64 16  7  7  3]\n",
      "最优性能： 0.9965501427650452\n"
     ]
    },
    {
     "data": {
      "text/plain": [
       "(array([16, 64, 16,  7,  7,  3]), 0.9965501427650452)"
      ]
     },
     "execution_count": 6,
     "metadata": {},
     "output_type": "execute_result"
    }
   ],
   "source": [
    "\n",
    "def main(n_iters=50):\n",
    "    X_init, y_init = init() # 初始化观测数据集   \n",
    "    gp = GaussianProcess() # 初始化高斯过程代理模型\n",
    "    acquisition_func = expected_improvement # 期望改进采集函数\n",
    "    \n",
    "    # 进行迭代优化\n",
    "    for i in range(n_iters):\n",
    "        # 拟合高斯过程模型\n",
    "        gp.fit(X_init, y_init)\n",
    "\n",
    "        # 生成候选模型架构集合\n",
    "        X_candidates = generate_candidates(num_candidates=10)\n",
    "        # 在候选架构中选择下一个要评估的架构\n",
    "        X_next = acquisition_func(X_candidates, X_init, y_init, gp)\n",
    "        \n",
    "        # 在真实环境中评估架构的性能\n",
    "        model_next = build_model(*X_next)\n",
    "        y_next = evaluate_model(model_next)\n",
    "        \n",
    "        # 将新的架构和性能添加到已评估列表中\n",
    "        X_init = np.vstack((X_init, X_next))\n",
    "        y_init = np.append(y_init, y_next)\n",
    "        \n",
    "    # 返回优化结果\n",
    "    best_idx = np.argmax(y_init)\n",
    "    best_architecture = X_init[best_idx]\n",
    "    best_performance = y_init[best_idx]\n",
    "    print('最优架构：', best_architecture)\n",
    "    print('最优性能：', best_performance)\n",
    "    return best_architecture, best_performance\n",
    "main()"
   ]
  },
  {
   "cell_type": "code",
   "execution_count": null,
   "id": "26914e24-bcd4-4a77-a6ea-d3cc04eb2786",
   "metadata": {},
   "outputs": [],
   "source": []
  }
 ],
 "metadata": {
  "kernelspec": {
   "display_name": "Python 3 (ipykernel)",
   "language": "python",
   "name": "python3"
  },
  "language_info": {
   "codemirror_mode": {
    "name": "ipython",
    "version": 3
   },
   "file_extension": ".py",
   "mimetype": "text/x-python",
   "name": "python",
   "nbconvert_exporter": "python",
   "pygments_lexer": "ipython3",
   "version": "3.10.0"
  }
 },
 "nbformat": 4,
 "nbformat_minor": 5
}
